{
 "cells": [
  {
   "cell_type": "code",
   "execution_count": null,
   "metadata": {},
   "outputs": [],
   "source": [
    "import os\n",
    "os.environ['PYSYN_CDBS'] = \"$HOME/anaconda/lib/python3.6/site-packages/pysynphot/grp/hst/cdbs\"\n",
    "os.environ['pandeia_refdata'] = \"$HOME/anaconda/lib/python3.6/site-packages/pandeia_data-1.3_engine_release\""
   ]
  },
  {
   "cell_type": "code",
   "execution_count": null,
   "metadata": {},
   "outputs": [],
   "source": [
    "# Import functions\n",
    "import numpy as np\n",
    "import matplotlib.pyplot as p\n",
    "% matplotlib inline\n",
    "\n",
    "import eigensource.add_noise_PandExo as add_noise\n",
    "import eigencurves\n",
    "import eigenmaps\n",
    "import kmeans\n",
    "#import mapPCA\n",
    "import bin_eigenspectra\n",
    "\n",
    "from importlib import import_module\n",
    "planet_name = 'HD189733b'\n",
    "system = import_module('data.planet.{}'.format(planet_name))"
   ]
  },
  {
   "cell_type": "markdown",
   "metadata": {},
   "source": [
    "### Import spectra and generate map"
   ]
  },
  {
   "cell_type": "code",
   "execution_count": null,
   "metadata": {},
   "outputs": [],
   "source": [
    "# ..."
   ]
  },
  {
   "cell_type": "markdown",
   "metadata": {},
   "source": [
    "### Generate lightcurve using STARRY"
   ]
  },
  {
   "cell_type": "code",
   "execution_count": null,
   "metadata": {
    "scrolled": true
   },
   "outputs": [],
   "source": [
    "from gen_lightcurves import prep_map1, create_lightcurves_with_starry\n",
    "lam, spaxels = prep_map1()\n",
    "time, lam, dlam, lcurves = create_lightcurves_with_starry(lam, spaxels)"
   ]
  },
  {
   "cell_type": "markdown",
   "metadata": {},
   "source": [
    "Plot map"
   ]
  },
  {
   "cell_type": "code",
   "execution_count": null,
   "metadata": {
    "scrolled": true
   },
   "outputs": [],
   "source": [
    "# Load lightcurve\n",
    "stuff = np.load(\"data/input_lightcurves/eclipse_lightcurve_test1.npz\")\n",
    "\n",
    "# Parse File\n",
    "lightcurve = stuff[\"lightcurve\"]\n",
    "wl = stuff[\"wl\"]\n",
    "dwl = stuff[\"dwl\"]\n",
    "time = stuff[\"time\"]\n",
    "\n",
    "# Make Plot\n",
    "fig, ax = p.subplots(1, figsize=(14, 5))\n",
    "ax.set_xlabel('Time [days]')\n",
    "ax.set_ylabel('Relative Flux')\n",
    "for i in range(len(wl)):\n",
    "    lc = lightcurve[:,i] - np.min(lightcurve[:,i])\n",
    "    ax.plot(time, lc+1, c = \"C%i\" %(i%9), label = r\"%.2f $\\mu$m\" %(wl[i]))\n",
    "ax.legend(fontsize = 16, ncol = 2)\n",
    "p.show()"
   ]
  },
  {
   "cell_type": "markdown",
   "metadata": {},
   "source": [
    "### Add Noise"
   ]
  },
  {
   "cell_type": "code",
   "execution_count": null,
   "metadata": {},
   "outputs": [],
   "source": [
    "inputLC3D = add_noise.get_lc()\n",
    "noiseDict = add_noise.add_noise(inputLC3D)"
   ]
  },
  {
   "cell_type": "markdown",
   "metadata": {},
   "source": [
    "### Fit eigencurves to lightcurve"
   ]
  },
  {
   "cell_type": "code",
   "execution_count": null,
   "metadata": {},
   "outputs": [],
   "source": [
    "spherearray = eigencurves.eigencurves(noiseDict,plot=True)\n",
    "# spherearray is an array of wavelength x SH coefficents"
   ]
  },
  {
   "cell_type": "markdown",
   "metadata": {},
   "source": [
    "# Loop over map-draws to get errors"
   ]
  },
  {
   "cell_type": "code",
   "execution_count": null,
   "metadata": {},
   "outputs": [],
   "source": [
    "ngroups = 3\n",
    "londim = 100\n",
    "latdim = 100\n",
    "samples = np.array([spherearray]) # output from eigencurves\n",
    "\n",
    "eigenspectra_draws = []\n",
    "kgroup_draws = []\n",
    "\n",
    "wavelengths, lats, lons, maps = eigenmaps.generate_maps(samples, N_lon=londim, N_lat=latdim)\n",
    "waves = wavelengths[0]\n",
    "\n",
    "for draw, map_ in zip(samples, maps):\n",
    "    kgroups = kmeans.kmeans(map_, ngroups)\n",
    "    \n",
    "    eigenspectra = bin_eigenspectra.bin_eigenspectra(map_, kgroups)\n",
    "    \n",
    "    eigenspectra_draws.append(eigenspectra)\n",
    "    kgroup_draws.append(kgroups)"
   ]
  },
  {
   "cell_type": "code",
   "execution_count": null,
   "metadata": {},
   "outputs": [],
   "source": [
    "eigenspectra = np.mean(eigenspectra_draws, axis=0)\n",
    "eigenerrs = np.std(eigenspectra_draws, axis=0)\n",
    "\n",
    "kgroups = np.mean(kgroup_draws, axis=0)"
   ]
  },
  {
   "cell_type": "code",
   "execution_count": null,
   "metadata": {},
   "outputs": [],
   "source": [
    "for spec, err in zip(eigenspectra, eigenerrs):\n",
    "    p.errorbar(waves, spec, err, marker='o')\n",
    "p.xlabel('Wavelength (micron)')\n",
    "p.ylabel('Fp/Fs (ppm)')\n",
    "p.title('Eigenspectra from light-curve fit')\n",
    "p.show()"
   ]
  },
  {
   "cell_type": "code",
   "execution_count": null,
   "metadata": {},
   "outputs": [],
   "source": [
    "kgroups_day = kgroups[:,londim//4:-londim//4]\n",
    "extent = np.array([np.min(lons),np.max(lons),np.min(lats),np.max(lats)])/2./np.pi*180\n",
    "ax = p.imshow(kgroups_day, extent=extent)\n",
    "cbar = p.colorbar(ax, ticks=np.arange(ngroups))\n",
    "cbar.set_label('# Group')\n",
    "p.ylabel('Latitude')\n",
    "p.xlabel('Longitude')\n",
    "p.title('Retrieved group map')\n",
    "p.show()"
   ]
  },
  {
   "cell_type": "code",
   "execution_count": null,
   "metadata": {},
   "outputs": [],
   "source": [
    "# Fake error example\n",
    "full_extent = np.array([np.min(lons)*2,np.max(lons)*2,np.min(lats),np.max(lats)])/2./np.pi*180\n",
    "\n",
    "map_errs = maps[0][0]\n",
    "map_errs[:,-londim//4:] = np.min(map_errs)\n",
    "map_errs[:,:londim//4] = np.min(map_errs)\n",
    "\n",
    "alphas = (map_errs-np.min(map_errs)) / (np.max(map_errs)-np.min(map_errs))\n",
    "\n",
    "# build RGBA data for 3 group case\n",
    "# size (lat,lon,4)\n",
    "# colour each group by R,G,B, using Alpha for errors?\n",
    "X0 = np.zeros((latdim,londim,3)) # without alpha\n",
    "X = np.zeros((latdim, londim, 4)) # with alpha\n",
    "X[:,:,-1] = alphas\n",
    "X[kgroups==0, :-1] = (1.,0,0) # first group are first colour\n",
    "X[kgroups==1, :-1] = (0,1.,0)\n",
    "X[kgroups==2, :-1] = (0,0,1.)\n",
    "X0[kgroups==0] = (1.,0,0) # first group are first colour\n",
    "X0[kgroups==1] = (0,1.,0)\n",
    "X0[kgroups==2] = (0,0,1.)\n",
    "\n",
    "p.title('Full Map ($\\lambda={:.2f} \\mu m$)'.format(waves[0]))\n",
    "p.imshow(X0, extent=full_extent)\n",
    "p.show()\n",
    "\n",
    "p.figure(figsize=(14,6))\n",
    "p.subplot(1,2,1)\n",
    "p.imshow(np.ones((latdim,londim,3)), extent=full_extent) # white background\n",
    "p.imshow(X, extent=full_extent) # group data\n",
    "p.title('Map with (fake) uncertainties')\n",
    "p.subplot(1,2,2)\n",
    "p.imshow(np.zeros((latdim,londim,3)), extent=full_extent) # black background\n",
    "p.imshow(X, extent=full_extent) # group data\n",
    "p.show()"
   ]
  },
  {
   "cell_type": "markdown",
   "metadata": {},
   "source": [
    "# Tests"
   ]
  },
  {
   "cell_type": "markdown",
   "metadata": {},
   "source": [
    "### Creat a fake data set"
   ]
  },
  {
   "cell_type": "markdown",
   "metadata": {},
   "source": [
    "Fake data 1, two distinct spectra"
   ]
  },
  {
   "cell_type": "code",
   "execution_count": null,
   "metadata": {},
   "outputs": [],
   "source": [
    "lamdim = 10\n",
    "latdim = 6\n",
    "londim = 4\n",
    "ngroups = 3\n",
    "\n",
    "# dummy flux values\n",
    "waves = np.linspace(1,2,lamdim) # micron\n",
    "spec1 = np.linspace(1000,2000,lamdim) # in ppm\n",
    "spec2 = np.linspace(500,600,lamdim) # in ppm\n",
    "spec2[lamdim//2:-1] *= 0.5\n",
    "\n",
    "spectra1 = [[ spec1+np.random.normal(0,100,lamdim) for _ in range(latdim) ] for __ in range(londim//2)]\n",
    "spectra2 = [[ spec2+np.random.normal(0,100,lamdim) for _ in range(latdim) ] for __ in range(londim//2)]\n",
    "fp_grid = np.array(spectra1+spectra2).T\n",
    "print(fp_grid.shape) # should be wave, lat, lon\n",
    "\n",
    "\n",
    "for lat in range(latdim):\n",
    "    for lon in range(londim):\n",
    "        spec = fp_grid[:,lat,lon]\n",
    "        err = 100 # ppm\n",
    "        p.errorbar(waves, spec, err)\n",
    "p.ylabel('Fp/Fs (ppm)')\n",
    "p.xlabel('Wavelength (micron)')\n",
    "p.show()"
   ]
  },
  {
   "cell_type": "markdown",
   "metadata": {},
   "source": [
    "Fake data 2, smoothly varying spectra"
   ]
  },
  {
   "cell_type": "code",
   "execution_count": null,
   "metadata": {},
   "outputs": [],
   "source": [
    "fp_grid2 = np.empty((lamdim,latdim,londim))\n",
    "for lat in range(latdim):\n",
    "    for lon in range(londim):\n",
    "        f = np.random.uniform(0,1)**2\n",
    "        err = np.random.normal(0,100,lamdim)\n",
    "        fp_grid2[:, lat, lon] = f*spec1 + (1-f)*spec2 + err\n",
    "\n",
    "\n",
    "for lat in range(latdim):\n",
    "    for lon in range(londim):\n",
    "        spec = fp_grid2[:,lat,lon]\n",
    "        err = 100 # ppm\n",
    "        p.errorbar(waves, spec, err)\n",
    "p.ylabel('Fp/Fs (ppm)')\n",
    "p.xlabel('Wavelength (micron)')\n",
    "p.show()"
   ]
  },
  {
   "cell_type": "markdown",
   "metadata": {},
   "source": [
    "### Get groups from K-means clustering"
   ]
  },
  {
   "cell_type": "code",
   "execution_count": null,
   "metadata": {
    "scrolled": true
   },
   "outputs": [],
   "source": [
    "kgroups = kmeans.kmeans(fp_grid, ngroups)\n",
    "\n",
    "kgroups2 = kmeans.kmeans(fp_grid2, ngroups)"
   ]
  },
  {
   "cell_type": "markdown",
   "metadata": {},
   "source": [
    "### Create eigenspectra from K-mean clustering output"
   ]
  },
  {
   "cell_type": "code",
   "execution_count": null,
   "metadata": {},
   "outputs": [],
   "source": [
    "eigenspectra = bin_eigenspectra.bin_eigenspectra(fp_grid, kgroups)\n",
    "\n",
    "eigenspectra2 = bin_eigenspectra.bin_eigenspectra(fp_grid2, kgroups2)"
   ]
  },
  {
   "cell_type": "code",
   "execution_count": null,
   "metadata": {},
   "outputs": [],
   "source": [
    "for spec in eigenspectra:\n",
    "    p.plot(waves, spec)\n",
    "p.title('Distinct spectra (Test 1)')\n",
    "ylim = p.ylim()\n",
    "p.show()\n",
    "\n",
    "for spec in eigenspectra2:\n",
    "    p.plot(waves, spec)\n",
    "p.title('Smooth spectra (Test 2)')\n",
    "p.ylim(ylim)\n",
    "p.show()"
   ]
  }
 ],
 "metadata": {
  "kernelspec": {
   "display_name": "Python 3",
   "language": "python",
   "name": "python3"
  },
  "language_info": {
   "codemirror_mode": {
    "name": "ipython",
    "version": 3
   },
   "file_extension": ".py",
   "mimetype": "text/x-python",
   "name": "python",
   "nbconvert_exporter": "python",
   "pygments_lexer": "ipython3",
   "version": "3.6.6"
  }
 },
 "nbformat": 4,
 "nbformat_minor": 1
}
