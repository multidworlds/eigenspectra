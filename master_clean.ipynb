{
 "cells": [
  {
   "cell_type": "code",
   "execution_count": null,
   "metadata": {},
   "outputs": [],
   "source": [
    "#Throughout this document, things that can be changed by the user to investigate different \n",
    "#parts of the map are marked with #FINDME\n",
    "\n",
    "# Import functions\n",
    "import numpy as np\n",
    "import matplotlib.pyplot as p\n",
    "%matplotlib inline\n",
    "\n",
    "import eigencurves\n",
    "import eigenmaps\n",
    "import kmeans\n",
    "import bin_eigenspectra\n",
    "import os\n",
    "import pdb\n",
    "import spiderman as sp\n",
    "\n",
    "import gen_lightcurves\n",
    "import healpy as hp\n",
    "\n",
    "import colorcet as cc\n",
    "from colormap2d import generate_map2d\n",
    "from matplotlib import colorbar, cm\n",
    "from matplotlib.colors import BoundaryNorm, Normalize\n",
    "from matplotlib.ticker import FormatStrFormatter, ScalarFormatter\n",
    "from mpl_toolkits.axes_grid1 import make_axes_locatable\n",
    "p.rc('text', usetex=True)\n",
    "p.rc('font', family='serif')\n",
    "\n",
    "import run_higher_sph_harm\n",
    "from eigensource import plot_utils\n",
    "\n",
    "from importlib import import_module\n",
    "planet_name = 'HD189733b'\n",
    "model_name = \"quadrant_w_spikes\" #FINDME: name of the model to perform the fit from"
   ]
  },
  {
   "cell_type": "markdown",
   "metadata": {},
   "source": [
    "Set the Wavelength Grid"
   ]
  },
  {
   "cell_type": "code",
   "execution_count": null,
   "metadata": {},
   "outputs": [],
   "source": [
    "lammin = 2.41\n",
    "lammax = 3.98\n",
    "\n",
    "lamhr = np.linspace(lammin, lammax, 1000)"
   ]
  },
  {
   "cell_type": "markdown",
   "metadata": {},
   "source": [
    "# Use `gen_lightcurves.spec_flat_with_gaussian()` to generate toy mock spectra"
   ]
  },
  {
   "cell_type": "code",
   "execution_count": null,
   "metadata": {},
   "outputs": [],
   "source": [
    "f1 = gen_lightcurves.spec_flat_with_gaussian(lamhr, A = 0.002, B = 0.001, std = 0.02, xroll = -0.20)\n",
    "f2 = gen_lightcurves.spec_flat_with_gaussian(lamhr, A = 0.003, B = 0.001, std = 0.02, xroll = 0.0)  \n",
    "f3 = gen_lightcurves.spec_flat_with_gaussian(lamhr, A = 0.004, B = 0.001, std = 0.02, xroll = 0.20) \n",
    "f4 = gen_lightcurves.spec_flat_with_gaussian(lamhr, A = 0.005, B = 0.001, std = 0.02, xroll = 0.40) \n",
    "\n",
    "\n",
    "p.plot(lamhr, f1)\n",
    "p.plot(lamhr, f2)\n",
    "p.plot(lamhr, f3)\n",
    "p.plot(lamhr, f4)\n",
    "p.xlabel(\"Wavelength [$\\mu$m]\")\n",
    "p.ylabel(\"Fp/Fs\")"
   ]
  },
  {
   "cell_type": "markdown",
   "metadata": {},
   "source": [
    "# Use `gen_lightcurves.create_quadrant_map()` to paint the spectra onto the planet map"
   ]
  },
  {
   "cell_type": "code",
   "execution_count": null,
   "metadata": {},
   "outputs": [],
   "source": [
    "spaxels = gen_lightcurves.create_quadrant_map(f4, f3, f2, f1)\n",
    "print(np.shape(spaxels))#3072\n",
    "print(np.shape(f1))\n",
    "plot_utils.show_orig_map(lamhr, spaxels);"
   ]
  },
  {
   "cell_type": "markdown",
   "metadata": {},
   "source": [
    "# Generate new input lightcurves"
   ]
  },
  {
   "cell_type": "code",
   "execution_count": null,
   "metadata": {},
   "outputs": [],
   "source": [
    "# Generate the multi-wavelength eclipse lightcurves using starry\n",
    "time, lam, dlam, lcurves = gen_lightcurves.create_lightcurves_with_starry(lamhr, spaxels, \n",
    "                                                                          plot_lightcurves = True, \n",
    "                                                                          plot_diagnostic = True, \n",
    "                                                                          plot_points_on_map_spec=True)\n",
    "\n",
    "# Save as a .npz file in data/input_lightcurves\n",
    "filename='data/input_lightcurves/'+model_name+'.npz'\n",
    "np.savez(filename,time=time,wl=lam,dwl=dlam,lightcurve=lcurves)"
   ]
  },
  {
   "cell_type": "markdown",
   "metadata": {},
   "source": [
    "# Perform inference\n",
    "This can take a while, but the results will be saved for faster future runs."
   ]
  },
  {
   "cell_type": "code",
   "execution_count": null,
   "metadata": {
    "scrolled": false
   },
   "outputs": [],
   "source": [
    "## Results are saved in data/sph_harmonic_coefficients_full_samples\n",
    "for oneOrd in np.arange(2,3): #which degrees of spherical harmonics you want to create fits for\n",
    "    run_higher_sph_harm.run_lc_noise_and_fit(norder=oneOrd,usePath=filename,afew=5)"
   ]
  },
  {
   "cell_type": "code",
   "execution_count": null,
   "metadata": {},
   "outputs": [],
   "source": [
    "dataDir='data/sph_harmonic_coefficients_full_samples/'+model_name+'/'\n",
    "waves, lats, lons = plot_utils.get_map_and_plot(waveInd=np.arange(10),degree=2,dataDir=dataDir,saveName='test',animate=True) #FINDME: using a different waveInd will show maps at a different wavelength; using a different degree will show a fit with a different number of spherical harmonics\n"
   ]
  },
  {
   "cell_type": "code",
   "execution_count": null,
   "metadata": {},
   "outputs": [],
   "source": [
    "degree=2 #FINDME: change this to investigate fits with different numbers of spherical harmonics\n",
    "ngroups=4 #FINDME: change ngroups to cluster the data into a different number of eigengroups\n",
    "extent=(np.max(time)-np.min(time))/2.21857567+180./360. #phase coverage of the eclipse observations\n",
    "eigenspectra_draws, kgroup_draws, maps = plot_utils.find_groups(dataDir,degree=degree,trySamples=25,\n",
    "                                                                ngroups=ngroups,extent=extent) \n",
    "#print(kgroup_draws)"
   ]
  },
  {
   "cell_type": "markdown",
   "metadata": {},
   "source": [
    "Find the eigenspectra and their errors"
   ]
  },
  {
   "cell_type": "code",
   "execution_count": null,
   "metadata": {},
   "outputs": [],
   "source": [
    "kgroups = plot_utils.show_spectra_of_groups(eigenspectra_draws,kgroup_draws,waves)"
   ]
  },
  {
   "cell_type": "markdown",
   "metadata": {},
   "source": [
    "## Show histograms of group assignments"
   ]
  },
  {
   "cell_type": "code",
   "execution_count": null,
   "metadata": {},
   "outputs": [],
   "source": [
    "xLons= np.array([-50,-10,40,70]) * np.pi/180.\n",
    "xLats= np.array([40,5, 0,-70]) * np.pi/180.\n",
    "# xLons= np.array([-30]) * np.pi/180.\n",
    "# xLats= np.array([45]) * np.pi/180.\n",
    "saveName = 'plots/selected_group_histos_quad_model_5_eigencurves_deg_{}.pdf'.format(degree)\n",
    "eigenmaps.show_group_histos(kgroups,lons,lats,kgroup_draws,\n",
    "                            xLons=xLons,xLats=xLats,\n",
    "                            saveName=saveName)"
   ]
  },
  {
   "cell_type": "code",
   "execution_count": null,
   "metadata": {},
   "outputs": [],
   "source": [
    "plot_utils.do_hue_maps(extent,maps,lons,lats,kgroups,ngroups,hueType='group')"
   ]
  },
  {
   "cell_type": "code",
   "execution_count": null,
   "metadata": {},
   "outputs": [],
   "source": [
    "plot_utils.do_hue_maps(extent,maps,lons,lats,kgroups,ngroups,hueType='flux')"
   ]
  },
  {
   "cell_type": "code",
   "execution_count": null,
   "metadata": {},
   "outputs": [],
   "source": []
  },
  {
   "cell_type": "code",
   "execution_count": null,
   "metadata": {},
   "outputs": [],
   "source": []
  }
 ],
 "metadata": {
  "kernelspec": {
   "display_name": "base",
   "language": "python",
   "name": "base"
  },
  "language_info": {
   "codemirror_mode": {
    "name": "ipython",
    "version": 3
   },
   "file_extension": ".py",
   "mimetype": "text/x-python",
   "name": "python",
   "nbconvert_exporter": "python",
   "pygments_lexer": "ipython3",
   "version": "3.6.7"
  }
 },
 "nbformat": 4,
 "nbformat_minor": 2
}
