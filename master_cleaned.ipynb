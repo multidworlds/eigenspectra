{
 "cells": [
  {
   "cell_type": "markdown",
   "metadata": {},
   "source": [
    "# I. Hot Spot Model"
   ]
  },
  {
   "cell_type": "code",
   "execution_count": null,
   "metadata": {},
   "outputs": [],
   "source": [
    "#Throughout this document, things that can be changed by the user to investigate different \n",
    "#parts of the map are marked with #FINDME\n",
    "\n",
    "# Import functions\n",
    "import numpy as np\n",
    "import matplotlib.pyplot as p\n",
    "%matplotlib inline\n",
    "\n",
    "import eigencurves\n",
    "import eigenmaps\n",
    "import kmeans\n",
    "import bin_eigenspectra\n",
    "import os\n",
    "import pdb\n",
    "\n",
    "import gen_lightcurves\n",
    "import healpy\n",
    "\n",
    "import colorcet as cc\n",
    "from colormap2d import generate_map2d\n",
    "from matplotlib import colorbar, cm\n",
    "from matplotlib.colors import BoundaryNorm, Normalize\n",
    "from matplotlib.ticker import FormatStrFormatter, ScalarFormatter\n",
    "from mpl_toolkits.axes_grid1 import make_axes_locatable\n",
    "p.rc('text', usetex=True)\n",
    "p.rc('font', family='serif')\n",
    "\n",
    "import run_higher_sph_harm\n",
    "\n",
    "from importlib import import_module\n",
    "planet_name = 'HD189733b'\n",
    "model_name = 'hotspot' #FINDME: name of the model to perform the fit from"
   ]
  },
  {
   "cell_type": "markdown",
   "metadata": {},
   "source": [
    "## 1. Generate lightcurve using STARRY"
   ]
  },
  {
   "cell_type": "code",
   "execution_count": null,
   "metadata": {},
   "outputs": [],
   "source": [
    "# Get the high-res wavelength grid and pixel spectra (spaxels)\n",
    "lamhr, spaxels = gen_lightcurves.prep_spectral_hotspot_map()\n",
    "\n",
    "# Generate the multi-wavelength eclipse lightcurves using starry\n",
    "time, lam, dlam, lcurves = gen_lightcurves.create_lightcurves_with_starry(lamhr, spaxels, plot_lightcurves = False, plot_diagnostic = False)\n",
    "\n",
    "# Save as a .npz file in data/input_lightcurves\n",
    "filename='data/input_lightcurves/'+model_name+'.npz'\n",
    "np.savez(filename,time=time,wl=lam,dwl=dlam,lightcurve=lcurves)\n"
   ]
  },
  {
   "cell_type": "markdown",
   "metadata": {},
   "source": [
    "## 2. Fit eigencurves to lightcurve"
   ]
  },
  {
   "cell_type": "code",
   "execution_count": null,
   "metadata": {},
   "outputs": [],
   "source": [
    "## Results are saved in data/sph_harmonic_coefficients_full_samples\n",
    "for oneOrd in np.arange(2,6): #which degrees of spherical harmonics you want to create fits for\n",
    "    run_higher_sph_harm.run_lc_noise_and_fit(norder=oneOrd,usePath=filename)\n"
   ]
  },
  {
   "cell_type": "markdown",
   "metadata": {},
   "source": [
    "## 3. Display maps for median, 5th percentile, and 95th percentile from spherical harmonic fit"
   ]
  },
  {
   "cell_type": "code",
   "execution_count": null,
   "metadata": {},
   "outputs": [],
   "source": [
    "def retrieve_map_full_samples(degree=3,dataDir=\"data/sph_harmonic_coefficients_full_samples/hotspot/\"):\n",
    "    tmp = np.load(\"{}spherearray_deg_{}.npz\".format(dataDir,degree))\n",
    "    outDictionary = tmp['arr_0'].tolist()\n",
    "    \n",
    "    londim = 100\n",
    "    latdim = 100\n",
    "    samples = outDictionary['spherical coefficients'] # output from eigencurves\n",
    "    waves = outDictionary['wavelength (um)']\n",
    "    \n",
    "    randomIndices = np.random.randint(0,len(samples),99)\n",
    "    nRandom = len(randomIndices)\n",
    "    \n",
    "    fullMapArray = np.zeros([nRandom,len(waves),londim,latdim])\n",
    "    for drawInd, draw in enumerate(samples[randomIndices]):\n",
    "        inputArr = np.zeros([len(waves),samples.shape[1]+1])\n",
    "        inputArr[:,0] = waves\n",
    "        inputArr[:,1:] = draw.transpose()\n",
    "        \n",
    "        wavelengths, lats, lons, maps = eigenmaps.generate_maps(inputArr,\n",
    "                                                                N_lon=londim, N_lat=latdim)\n",
    "        fullMapArray[drawInd,:,:,:] = maps\n",
    "    \n",
    "    return fullMapArray, lats, lons, waves\n",
    "    \n"
   ]
  },
  {
   "cell_type": "code",
   "execution_count": null,
   "metadata": {},
   "outputs": [],
   "source": [
    "def plot_retrieved_map(fullMapArray,lats,lons,waves,waveInd=3,degree=3):\n",
    "    percentiles = [5,50,95]\n",
    "    mapLowMedHigh = np.percentile(fullMapArray,percentiles,axis=0)\n",
    "    londim = fullMapArray.shape[2]\n",
    "    \n",
    "    fig, axArr = p.subplots(1,3,figsize=(22,5))\n",
    "    for ind,onePercentile in enumerate(percentiles):\n",
    "        map_day = mapLowMedHigh[ind][waveInd][:,londim//4:-londim//4]\n",
    "        extent = np.array([np.min(lons),np.max(lons),np.min(lats),np.max(lats)])/2./np.pi*180\n",
    "        plotData = axArr[ind].imshow(map_day, extent=extent)\n",
    "        cbar = fig.colorbar(plotData,ax=axArr[ind])\n",
    "        cbar.set_label('Brightness')\n",
    "        axArr[ind].set_ylabel('Latitude')\n",
    "        axArr[ind].set_xlabel('Longitude')\n",
    "        axArr[ind].set_title(\"{} %\".format(onePercentile))\n",
    "        #axArr[ind].show()\n",
    "    \n",
    "    fig.suptitle('Retrieved group map, n={}, {:.2f}$\\mu$m'.format(degree,waves[waveInd]))\n",
    "\n",
    "def get_map_and_plot(waveInd=3,degree=3,dataDir=\"data/sph_harmonic_coefficients_full_samples/hotspot/\"):\n",
    "    '''\n",
    "    Plots spherical harmonic maps at one wavelength for 5th, 50th, and 95th percentile posterior samples\n",
    "    \n",
    "    Inputs\n",
    "    ----------\n",
    "    waveInd: int\n",
    "        Index of the wavelength for which a map will be created\n",
    "    degree: int\n",
    "        Spherical harmonic degree to draw samples from\n",
    "    dataDir: str\n",
    "        Path to the directory containing the spherical harmonic coefficients\n",
    "        \n",
    "    Outputs\n",
    "    -----------\n",
    "    waves: array\n",
    "        Wavelengths for the eigenspectra\n",
    "    '''\n",
    "    fullMapArray, lats, lons, waves = retrieve_map_full_samples(degree=degree,dataDir=dataDir)\n",
    "    plot_retrieved_map(fullMapArray,lats,lons,waves,degree=degree,waveInd=waveInd)\n",
    "    return waves, lats, lons\n",
    "\n",
    "def all_sph_degrees(waveInd=5):\n",
    "    for oneDegree in np.arange(2,6):\n",
    "        get_map_and_plot(waveInd=waveInd,degree=oneDegree)"
   ]
  },
  {
   "cell_type": "code",
   "execution_count": null,
   "metadata": {},
   "outputs": [],
   "source": [
    "dataDir='data/sph_harmonic_coefficients_full_samples/'+model_name+'/'\n",
    "waves, lats, lons = get_map_and_plot(waveInd=3,degree=3,dataDir=dataDir) #FINDME: using a different waveInd will show maps at a different wavelength; using a different degree will show a fit with a different number of spherical harmonics\n"
   ]
  },
  {
   "cell_type": "markdown",
   "metadata": {},
   "source": [
    "## 4. Use K means clustering to find Eigenspectra"
   ]
  },
  {
   "cell_type": "code",
   "execution_count": null,
   "metadata": {},
   "outputs": [],
   "source": [
    "def find_groups(dataDir,ngroups=4,degree=2,\n",
    "                londim=100, latdim=100,\n",
    "                trySamples=45,sortMethod='avg'):\n",
    "    \"\"\" \n",
    "    Find the eigenspectra using k means clustering\n",
    "    \n",
    "    Parameters\n",
    "    ----------\n",
    "    ngroups: int\n",
    "        Number of eigenspectra to group results into\n",
    "    degree: int\n",
    "        Spherical harmonic degree to draw samples from\n",
    "    testNum: int\n",
    "        Test number (ie. lightcurve number 1,2, etc.)\n",
    "    trySamples: int\n",
    "        Number of samples to find groups with\n",
    "        All samples take a long time so this takes a random\n",
    "        subset of samples from which to draw posteriors\n",
    "    sortMethod: str\n",
    "        Method to sort the groups returned by K means clustering\n",
    "        None, will not sort the output\n",
    "        'avg' will sort be the average of the spectrum\n",
    "        'middle' will sort by the flux in the middl of the spectrum\n",
    "    \"\"\"\n",
    "    #samplesDir = \"data/sph_harmonic_coefficients_full_samples\"\n",
    "    #dataDir = \"{}/eclipse_lightcurve_test{}/\".format(samplesDir,testNum)\n",
    "    tmp = np.load(\"{}spherearray_deg_{}.npz\".format(dataDir,degree))\n",
    "    outDictionary = tmp['arr_0'].tolist()\n",
    "    samples = outDictionary['spherical coefficients'] # output from eigencurves\n",
    "\n",
    "    eigenspectra_draws = []\n",
    "    kgroup_draws = []\n",
    "\n",
    "    randomIndices = np.random.randint(0,len(samples),trySamples)\n",
    "    for draw in samples[randomIndices]:\n",
    "        ## Re-formatting here into a legacy system\n",
    "        ## 1st dimension is wavelength\n",
    "        ## 2nd dimensions is data (0th element = wavelength)\n",
    "        ##                        (1: elements are spherical harmonic coefficients)\n",
    "        inputArr = np.zeros([10,samples.shape[1]+1])\n",
    "        inputArr[:,0] = np.array([2.41,2.59,2.77,2.95,3.13,3.31,3.49,3.67,3.85,4.03])\n",
    "        inputArr[:,1:] = draw.transpose()\n",
    "\n",
    "        wavelengths, lats, lons, maps = eigenmaps.generate_maps(inputArr, N_lon=londim, N_lat=latdim)\n",
    "\n",
    "        kgroups = kmeans.kmeans(maps, ngroups)\n",
    "\n",
    "        eigenspectra = bin_eigenspectra.bin_eigenspectra(maps, kgroups)\n",
    "\n",
    "        eigenspectra_draws.append(eigenspectra)\n",
    "        kgroup_draws.append(kgroups)\n",
    "    if sortMethod is not None:\n",
    "        eigenspectra_draws_final, kgroup_draws_final = kmeans.sort_draws(eigenspectra_draws,\n",
    "                                                                         kgroup_draws,\n",
    "                                                                         method=sortMethod)\n",
    "    else:\n",
    "        eigenspectra_draws_final, kgroup_draws_final = eigenspectra_draws, kgroup_draws\n",
    "    return eigenspectra_draws_final, kgroup_draws_final, maps"
   ]
  },
  {
   "cell_type": "code",
   "execution_count": null,
   "metadata": {},
   "outputs": [],
   "source": [
    "degree=3 #FINDME: change this to investigate fits with different numbers of spherical harmonics\n",
    "ngroups=3 #FINDME: change ngroups to cluster the data into a different number of eigengroups\n",
    "eigenspectra_draws, kgroup_draws, maps = find_groups(dataDir,degree=degree,trySamples=200,ngroups=3) \n"
   ]
  },
  {
   "cell_type": "markdown",
   "metadata": {},
   "source": [
    "## 5. Plot the Eigenspectra"
   ]
  },
  {
   "cell_type": "code",
   "execution_count": null,
   "metadata": {},
   "outputs": [],
   "source": [
    "# THIS IS THE PART THAT NEEDS TO BE UPDATED FOR THE ERRORS THING\n",
    "eigenspectra = np.mean(eigenspectra_draws, axis=0)\n",
    "eigenerrs = np.std(eigenspectra_draws, axis=0)\n",
    "kgroups = np.mean(kgroup_draws, axis=0)\n",
    "\n",
    "counter=0\n",
    "colors=['b','g','orange']\n",
    "for spec, err in zip(eigenspectra, eigenerrs):\n",
    "    p.errorbar(waves, spec, err,label=('Group '+np.str(counter)),linewidth=2,marker='.',markersize=10,color=colors[counter])\n",
    "    counter+=1\n",
    "p.xlabel('Wavelength (micron)',fontsize=20)\n",
    "p.ylabel('Fp/Fs',fontsize=20)\n",
    "p.tick_params(labelsize=20,axis=\"both\",right=True,top=True,width=1.5,length=5)\n",
    "p.title('Eigenspectra')\n",
    "p.legend(fontsize=15)\n",
    "p.show()\n",
    "#p.savefig('plots/eigenmap_and_spec/'+'hot_spot_spectra_deg3_3groups_error_bars.pdf',bbox_inches='tight')"
   ]
  },
  {
   "cell_type": "markdown",
   "metadata": {},
   "source": [
    "## 6. Plot Spatial Map of Eigengroups"
   ]
  },
  {
   "cell_type": "code",
   "execution_count": null,
   "metadata": {},
   "outputs": [],
   "source": [
    "full_extent = np.array([np.min(lons),np.max(lons),np.min(lats),np.max(lats)])/np.pi*180\n",
    "# londim, latdim = np.shape(maps)[1:]\n",
    "\n",
    "maps_mean = np.average(maps, axis=0)\n",
    "maps_error = np.std(maps, axis=0)\n",
    "\n",
    "cmap = cc.cm['isolum']\n",
    "cmap_grey = cc.cm['linear_grey_10_95_c0']\n",
    "# norm = Normalize(vmin=np.min(maps_mean), vmax=np.max(maps_mean))"
   ]
  },
  {
   "cell_type": "code",
   "execution_count": null,
   "metadata": {},
   "outputs": [],
   "source": [
    "p.figure(figsize=(10,6.5))\n",
    "p.title('Eigengroups', fontsize=22)\n",
    "\n",
    "\n",
    "group_map = generate_map2d(hue_quantity=0.5*kgroups,\n",
    "                           lightness_quantity=maps_mean,\n",
    "                           hue_cmap=cmap,\n",
    "                           scale_min=10,\n",
    "                           scale_max=90)\n",
    "p.imshow(group_map, extent=full_extent, interpolation='gaussian')\n",
    "CS = p.contour(lons/np.pi*180, -lats/np.pi*180, 2*kgroups,\n",
    "               levels=np.arange(ngroups), colors='k', linestyles=['solid', 'dashed', 'dotted'])\n",
    "\n",
    "p.clabel(CS, inline=1, fmt='%1.0f', fontsize=12)\n",
    "\n",
    "p.xlabel(r'Longitude ($^\\circ$)', fontsize=16)\n",
    "p.ylabel(r'Latitude ($^\\circ$)', fontsize=16)\n",
    "p.setp(p.axes().get_xticklabels(), fontsize=16)\n",
    "p.setp(p.axes().get_yticklabels(), fontsize=16)\n",
    "\n",
    "cmap_group = cmap\n",
    "cNorm_group  = Normalize(vmin=0, vmax=ngroups-1)\n",
    "scalarMap_group = cm.ScalarMappable(norm=cNorm_group, cmap=cmap_group)\n",
    "\n",
    "cmap_flux = cmap_grey\n",
    "cNorm_flux  = Normalize(vmin=0, vmax=np.nanmax(maps_mean))\n",
    "scalarMap_flux = cm.ScalarMappable(norm=cNorm_flux, cmap=cmap_flux)\n",
    "\n",
    "bounds = np.linspace(-0.5, ngroups-0.5, ngroups+1)\n",
    "norm_group = BoundaryNorm(bounds, cmap_group.N)\n",
    "\n",
    "divider = make_axes_locatable(p.axes())\n",
    "ax2 = divider.append_axes(\"bottom\", size=\"7.5%\", pad=1)\n",
    "cb = colorbar.ColorbarBase(ax2, cmap=cmap_group, norm=norm_group, spacing=\"proportional\", orientation='horizontal', ticks=np.arange(0, ngroups, 1), boundaries=bounds)\n",
    "cb.ax.xaxis.set_minor_formatter(FormatStrFormatter('%.1g'))\n",
    "cb.ax.tick_params(axis='x', labelsize=13)\n",
    "cb.ax.tick_params(axis='x', direction='inout',  top='off', bottom='off',\n",
    "                  labeltop='on', labelbottom='off', labelsize=13, pad=-15)\n",
    "cb.ax.set_title('Group', y=1.35, fontsize=19)\n",
    "\n",
    "ax3 = divider.append_axes(\"bottom\", size=\"7.5%\", pad=0.75)\n",
    "cb = colorbar.ColorbarBase(ax3, cmap=cmap_flux, norm=cNorm_flux, orientation='horizontal')\n",
    "cb.ax.tick_params(axis='x', labelsize=13)\n",
    "cb.ax.set_title('Flux', y=1.35, fontsize=19)\n",
    "\n",
    "for filetype in ['png', 'pdf']:\n",
    "    p.savefig('HUEgroup_LUMflux_fullmap.{}'.format(filetype), dpi=300, bbox_inches='tight')"
   ]
  },
  {
   "cell_type": "code",
   "execution_count": null,
   "metadata": {},
   "outputs": [],
   "source": [
    "p.figure(figsize=(10,6.5))\n",
    "p.title('Flux', fontsize=22)\n",
    "\n",
    "group_map = generate_map2d(hue_quantity=(maps_mean-np.min(maps_mean))/np.ptp(maps_mean),\n",
    "                           lightness_quantity=1-((maps_error-np.min(maps_error))/np.ptp(maps_error)),\n",
    "                           hue_cmap=cmap,\n",
    "                           scale_min=10,\n",
    "                           scale_max=90)\n",
    "p.imshow(group_map, extent=full_extent, interpolation='gaussian')\n",
    "CS = p.contour(lons/np.pi*180, -lats/np.pi*180, 2*kgroups,\n",
    "               levels=np.arange(ngroups), colors='k', linestyles=['solid', 'dashed', 'dotted'])\n",
    "\n",
    "p.clabel(CS, inline=1, fmt='%1.0f', fontsize=12)\n",
    "\n",
    "p.xlabel(r'Longitude ($^\\circ$)', fontsize=16)\n",
    "p.ylabel(r'Latitude ($^\\circ$)', fontsize=16)\n",
    "p.setp(p.axes().get_xticklabels(), fontsize=16)\n",
    "p.setp(p.axes().get_yticklabels(), fontsize=16)\n",
    "\n",
    "cmap_flux = cmap\n",
    "cNorm_flux = Normalize(vmin=0, vmax=np.nanmax(maps_mean))\n",
    "scalarMap_flux = cm.ScalarMappable(norm=cNorm_flux, cmap=cmap_flux)\n",
    "\n",
    "cmap_stdev = cmap_grey\n",
    "cNorm_stdev  = Normalize(vmin=0, vmax=np.nanmax(maps_error))\n",
    "scalarMap_stdev = cm.ScalarMappable(norm=cNorm_stdev, cmap=cmap_stdev)\n",
    "\n",
    "divider = make_axes_locatable(p.axes())\n",
    "ax2 = divider.append_axes(\"bottom\", size=\"7.5%\", pad=1)\n",
    "cb = colorbar.ColorbarBase(ax2, cmap=cmap_flux, norm=cNorm_flux, orientation='horizontal')\n",
    "cb.ax.tick_params(axis='x', labelsize=13)\n",
    "cb.ax.set_title('Flux', y=1.35, fontsize=19)\n",
    "\n",
    "ax3 = divider.append_axes(\"bottom\", size=\"7.5%\", pad=0.75)\n",
    "cb = colorbar.ColorbarBase(ax3, cmap=cmap_stdev, norm=cNorm_stdev, orientation='horizontal')\n",
    "cb.ax.tick_params(axis='x', labelsize=13)\n",
    "cb.ax.set_title('Uncertainty', y=1.35, fontsize=19)\n",
    "\n",
    "for filetype in ['png', 'pdf']:\n",
    "    p.savefig('HUEflux_LUMstdev_fullmap.{}'.format(filetype), dpi=300, bbox_inches='tight')"
   ]
  },
  {
   "cell_type": "markdown",
   "metadata": {},
   "source": [
    "## 7. Show original map and Eigenspectra"
   ]
  },
  {
   "cell_type": "code",
   "execution_count": null,
   "metadata": {},
   "outputs": [],
   "source": [
    "def show_orig_map(lam,spaxels,waveInd=0):#testNum=1):\n",
    "    \"\"\"\n",
    "    Show the original map at a given wavelength\n",
    "    \n",
    "    Parameters\n",
    "    -----------\n",
    "    waveInd: int\n",
    "        The wavelength index\n",
    "    testNum: int\n",
    "        The test Number (ie. lightcurve number)\n",
    "    \"\"\"\n",
    "    #origData = np.load(\"data/maps/mystery_map{}.npz\".format(testNum))\n",
    "    lammin1 = 2.41; lammax1 = 3.98; dlam1 = 0.18\n",
    "    #spaxels = origData[\"spaxels\"]\n",
    "    #lam = origData[\"wl\"]\n",
    "    lamlo, dlamlo = gen_lightcurves.construct_lam(lammin1, lammax1, dlam=dlam1)\n",
    "    Nlamlo = len(lamlo)\n",
    "\n",
    "    # Set HealPy pixel numbers\n",
    "    Npix = spaxels.shape[0]\n",
    "\n",
    "    # Define empty 2d array for spaxels\n",
    "    spec2d = np.zeros((Npix, Nlamlo))\n",
    "\n",
    "    # Loop over pixels filling with spectra\n",
    "    for i in range(Npix):\n",
    "        # Degrade the spectra to lower resolution\n",
    "        spec2d[i,:] = gen_lightcurves.downbin_spec(spaxels[i, :], lam, lamlo, dlam = dlamlo)\n",
    "\n",
    "\n",
    "    healpy.mollview(spec2d[:,waveInd], title=r\"%0.2f $\\mu$m\" %lamlo[waveInd])\n",
    "    p.show()\n",
    "    return spec2d"
   ]
  },
  {
   "cell_type": "code",
   "execution_count": null,
   "metadata": {},
   "outputs": [],
   "source": [
    "spec2D=show_orig_map(lamhr,spaxels,waveInd=3)\n",
    "groupstarts=np.unique(spec2D[:,0])\n",
    "p.figure()\n",
    "for f in groupstarts:\n",
    "    p.plot(waves,spec2D[spec2D[:,0]==f][0,:])\n",
    "p.show()"
   ]
  },
  {
   "cell_type": "markdown",
   "metadata": {},
   "source": [
    "# II.  A More Difficult Model"
   ]
  },
  {
   "cell_type": "markdown",
   "metadata": {},
   "source": [
    "## 1. Generate lightcurve using STARRY"
   ]
  },
  {
   "cell_type": "code",
   "execution_count": null,
   "metadata": {},
   "outputs": [],
   "source": [
    "model_name = 'secretmodel' #name of the model to perform the fit from\n",
    "\n",
    "# Get the high-res wavelength grid and pixel spectra (spaxels)\n",
    "lamhr, spaxels = gen_lightcurves.prep_map1()\n",
    "spec2D=show_orig_map(lamhr,spaxels,waveInd=9)\n",
    "groupstarts=np.unique(spec2D[:,0])\n",
    "# p.figure()\n",
    "# for f in groupstarts:\n",
    "#     p.plot(waves,spec2D[spec2D[:,0]==f][0,:])\n",
    "# plt.show()\n",
    "\n",
    "# Generate the multi-wavelength eclipse lightcurves using starry\n",
    "time, lam, dlam, lcurves = gen_lightcurves.create_lightcurves_with_starry(lamhr, spaxels, plot_lightcurves = True, plot_diagnostic = True)\n",
    "\n",
    "# Save as a .npz file in data/input_lightcurves\n",
    "filename='data/input_lightcurves/'+model_name+'.npz'\n",
    "np.savez(filename,time=time,wl=lam,dwl=dlam,lightcurve=lcurves)"
   ]
  },
  {
   "cell_type": "markdown",
   "metadata": {},
   "source": [
    "## 2. Fit eigencurves to lightcurve"
   ]
  },
  {
   "cell_type": "code",
   "execution_count": null,
   "metadata": {},
   "outputs": [],
   "source": [
    "\n",
    "## Results are saved in data/sph_harmonic_coefficients_full_samples\n",
    "for oneOrd in np.arange(5,6): #which degrees of spherical harmonics you want to create fits for\n",
    "    run_higher_sph_harm.run_lc_noise_and_fit(norder=oneOrd,usePath=filename)"
   ]
  },
  {
   "cell_type": "markdown",
   "metadata": {},
   "source": [
    "## 3. Display maps for median, 5th percentile, and 95th percentile from spherical harmonic fit"
   ]
  },
  {
   "cell_type": "code",
   "execution_count": null,
   "metadata": {},
   "outputs": [],
   "source": [
    "dataDir='data/sph_harmonic_coefficients_full_samples/'+model_name+'/'\n",
    "waves, lats, lons = get_map_and_plot(waveInd=9,degree=5,dataDir=dataDir) #FINDME: using a different waveInd will show maps at a different wavelength; using a different degree will show a fit with a different number of spherical harmonics\n"
   ]
  },
  {
   "cell_type": "markdown",
   "metadata": {},
   "source": [
    "## 4. Use K means clustering to find Eigenspectra"
   ]
  },
  {
   "cell_type": "code",
   "execution_count": null,
   "metadata": {},
   "outputs": [],
   "source": [
    "degree=5 #FINDME: change this to investigate fits with different numbers of spherical harmonics\n",
    "ngroups=4 #FINDME: change ngroups to cluster the data into a different number of eigengroups\n",
    "eigenspectra_draws, kgroup_draws, maps = find_groups(dataDir,degree=degree,trySamples=200,ngroups=ngroups)\n",
    "#print(\"{}spherearray_deg_{}.npz\".format(dataDir,degree))"
   ]
  },
  {
   "cell_type": "markdown",
   "metadata": {},
   "source": [
    "## 5. Plot the Eigenspectra"
   ]
  },
  {
   "cell_type": "code",
   "execution_count": null,
   "metadata": {},
   "outputs": [],
   "source": [
    "# THIS IS THE PART THAT NEEDS TO BE UPDATED FOR THE ERRORS THING\n",
    "eigenspectra = np.mean(eigenspectra_draws, axis=0)\n",
    "eigenerrs = np.std(eigenspectra_draws, axis=0)\n",
    "kgroups = np.mean(kgroup_draws, axis=0)\n",
    "\n",
    "counter=0\n",
    "colors=['b','g','orange','red']\n",
    "for spec, err in zip(eigenspectra, eigenerrs):\n",
    "    p.errorbar(waves, spec, err,label=('Group '+np.str(counter)),linewidth=2,marker='.',markersize=10,color=colors[counter])\n",
    "    counter+=1\n",
    "p.xlabel('Wavelength (micron)',fontsize=20)\n",
    "p.ylabel('Fp/Fs',fontsize=20)\n",
    "p.tick_params(labelsize=20,axis=\"both\",right=True,top=True,width=1.5,length=5)\n",
    "p.title('Eigenspectra')\n",
    "p.legend(fontsize=15)\n",
    "p.show()"
   ]
  },
  {
   "cell_type": "markdown",
   "metadata": {},
   "source": [
    "## 6. Plot Spatial Map of Eigengroups"
   ]
  },
  {
   "cell_type": "code",
   "execution_count": null,
   "metadata": {},
   "outputs": [],
   "source": [
    "full_extent = np.array([np.min(lons),np.max(lons),np.min(lats),np.max(lats)])/np.pi*180\n",
    "# londim, latdim = np.shape(maps)[1:]\n",
    "\n",
    "maps_mean = np.average(maps, axis=0)\n",
    "maps_error = np.std(maps, axis=0)\n",
    "\n",
    "cmap = cc.cm['isolum']\n",
    "cmap_grey = cc.cm['linear_grey_10_95_c0']\n",
    "# norm = Normalize(vmin=np.min(maps_mean), vmax=np.max(maps_mean))"
   ]
  },
  {
   "cell_type": "code",
   "execution_count": null,
   "metadata": {},
   "outputs": [],
   "source": [
    "p.figure(figsize=(10,6.5))\n",
    "p.title('Eigengroups', fontsize=22)\n",
    "\n",
    "\n",
    "group_map = generate_map2d(hue_quantity=0.5*kgroups,\n",
    "                           lightness_quantity=maps_mean,\n",
    "                           hue_cmap=cmap,\n",
    "                           scale_min=10,\n",
    "                           scale_max=90)\n",
    "p.imshow(group_map, extent=full_extent, interpolation='gaussian')\n",
    "CS = p.contour(lons/np.pi*180, -lats/np.pi*180, 2*kgroups,\n",
    "               levels=np.arange(ngroups), colors='k', linestyles=['solid', 'dashed', 'dotted'])\n",
    "\n",
    "p.clabel(CS, inline=1, fmt='%1.0f', fontsize=12)\n",
    "\n",
    "p.xlabel(r'Longitude ($^\\circ$)', fontsize=16)\n",
    "p.ylabel(r'Latitude ($^\\circ$)', fontsize=16)\n",
    "p.setp(p.axes().get_xticklabels(), fontsize=16)\n",
    "p.setp(p.axes().get_yticklabels(), fontsize=16)\n",
    "\n",
    "cmap_group = cmap\n",
    "cNorm_group  = Normalize(vmin=0, vmax=ngroups-1)\n",
    "scalarMap_group = cm.ScalarMappable(norm=cNorm_group, cmap=cmap_group)\n",
    "\n",
    "cmap_flux = cmap_grey\n",
    "cNorm_flux  = Normalize(vmin=0, vmax=np.nanmax(maps_mean))\n",
    "scalarMap_flux = cm.ScalarMappable(norm=cNorm_flux, cmap=cmap_flux)\n",
    "\n",
    "bounds = np.linspace(-0.5, ngroups-0.5, ngroups+1)\n",
    "norm_group = BoundaryNorm(bounds, cmap_group.N)\n",
    "\n",
    "divider = make_axes_locatable(p.axes())\n",
    "ax2 = divider.append_axes(\"bottom\", size=\"7.5%\", pad=1)\n",
    "cb = colorbar.ColorbarBase(ax2, cmap=cmap_group, norm=norm_group, spacing=\"proportional\", orientation='horizontal', ticks=np.arange(0, ngroups, 1), boundaries=bounds)\n",
    "cb.ax.xaxis.set_minor_formatter(FormatStrFormatter('%.1g'))\n",
    "cb.ax.tick_params(axis='x', labelsize=13)\n",
    "cb.ax.tick_params(axis='x', direction='inout',  top='off', bottom='off',\n",
    "                  labeltop='on', labelbottom='off', labelsize=13, pad=-15)\n",
    "cb.ax.set_title('Group', y=1.35, fontsize=19)\n",
    "\n",
    "ax3 = divider.append_axes(\"bottom\", size=\"7.5%\", pad=0.75)\n",
    "cb = colorbar.ColorbarBase(ax3, cmap=cmap_flux, norm=cNorm_flux, orientation='horizontal')\n",
    "cb.ax.tick_params(axis='x', labelsize=13)\n",
    "cb.ax.set_title('Flux', y=1.35, fontsize=19)\n",
    "\n",
    "for filetype in ['png', 'pdf']:\n",
    "    p.savefig('HUEgroup_LUMflux_complexmap.{}'.format(filetype), dpi=300, bbox_inches='tight')"
   ]
  },
  {
   "cell_type": "code",
   "execution_count": null,
   "metadata": {},
   "outputs": [],
   "source": [
    "p.figure(figsize=(10,6.5))\n",
    "p.title('Flux', fontsize=22)\n",
    "\n",
    "group_map = generate_map2d(hue_quantity=(maps_mean-np.min(maps_mean))/np.ptp(maps_mean),\n",
    "                           lightness_quantity=1-((maps_error-np.min(maps_error))/np.ptp(maps_error)),\n",
    "                           hue_cmap=cmap,\n",
    "                           scale_min=10,\n",
    "                           scale_max=90)\n",
    "p.imshow(group_map, extent=full_extent, interpolation='gaussian')\n",
    "CS = p.contour(lons/np.pi*180, -lats/np.pi*180, 2*kgroups,\n",
    "               levels=np.arange(ngroups), colors='k', linestyles=['solid', 'dashed', 'dotted'])\n",
    "\n",
    "p.clabel(CS, inline=1, fmt='%1.0f', fontsize=12)\n",
    "\n",
    "p.xlabel(r'Longitude ($^\\circ$)', fontsize=16)\n",
    "p.ylabel(r'Latitude ($^\\circ$)', fontsize=16)\n",
    "p.setp(p.axes().get_xticklabels(), fontsize=16)\n",
    "p.setp(p.axes().get_yticklabels(), fontsize=16)\n",
    "\n",
    "cmap_flux = cmap\n",
    "cNorm_flux = Normalize(vmin=0, vmax=np.nanmax(maps_mean))\n",
    "scalarMap_flux = cm.ScalarMappable(norm=cNorm_flux, cmap=cmap_flux)\n",
    "\n",
    "cmap_stdev = cmap_grey\n",
    "cNorm_stdev  = Normalize(vmin=0, vmax=np.nanmax(maps_error))\n",
    "scalarMap_stdev = cm.ScalarMappable(norm=cNorm_stdev, cmap=cmap_stdev)\n",
    "\n",
    "divider = make_axes_locatable(p.axes())\n",
    "ax2 = divider.append_axes(\"bottom\", size=\"7.5%\", pad=1)\n",
    "cb = colorbar.ColorbarBase(ax2, cmap=cmap_flux, norm=cNorm_flux, orientation='horizontal')\n",
    "cb.ax.tick_params(axis='x', labelsize=13)\n",
    "cb.ax.set_title('Flux', y=1.35, fontsize=19)\n",
    "\n",
    "ax3 = divider.append_axes(\"bottom\", size=\"7.5%\", pad=0.75)\n",
    "cb = colorbar.ColorbarBase(ax3, cmap=cmap_stdev, norm=cNorm_stdev, orientation='horizontal')\n",
    "cb.ax.tick_params(axis='x', labelsize=13)\n",
    "cb.ax.set_title('Uncertainty', y=1.35, fontsize=19)\n",
    "\n",
    "for filetype in ['png', 'pdf']:\n",
    "    p.savefig('HUEflux_LUMstdev_complexmap.{}'.format(filetype), dpi=300, bbox_inches='tight')"
   ]
  },
  {
   "cell_type": "markdown",
   "metadata": {},
   "source": [
    "## 7. Show original map and Eigenspectra"
   ]
  },
  {
   "cell_type": "code",
   "execution_count": null,
   "metadata": {},
   "outputs": [],
   "source": [
    "spec2D=show_orig_map(lamhr,spaxels,waveInd=3)\n",
    "groupstarts=np.unique(spec2D[:,0])\n",
    "p.figure()\n",
    "for f in groupstarts:\n",
    "    p.plot(waves,spec2D[spec2D[:,0]==f][0,:])\n",
    "p.show()"
   ]
  },
  {
   "cell_type": "markdown",
   "metadata": {},
   "source": [
    "# Possible Sections to Keep/Remove"
   ]
  },
  {
   "cell_type": "markdown",
   "metadata": {},
   "source": [
    "## Display Eigenspectra from posterior draws individually (instead of just the means)"
   ]
  },
  {
   "cell_type": "code",
   "execution_count": null,
   "metadata": {},
   "outputs": [],
   "source": [
    "#Do we need this section or is it just for testing?\n",
    "p.figure()\n",
    "for oneSpec in np.array(eigenspectra_draws):\n",
    "    for deg in np.arange(ngroups):\n",
    "        p.plot(waves,oneSpec[deg,:],color='b',alpha=0.05)\n",
    "p.xlabel('Wavelength ($\\mu$m)')\n",
    "p.ylabel('F$_p$/F$_*$')"
   ]
  },
  {
   "cell_type": "markdown",
   "metadata": {},
   "source": [
    "## Loop over many samples to get eigenmap and eigenspectra Errors"
   ]
  },
  {
   "cell_type": "code",
   "execution_count": null,
   "metadata": {},
   "outputs": [],
   "source": [
    "def show_eigenspec_and_map(ngroups=4,degree=5):\n",
    "    \"\"\" Show the eigenspectra and map\"\"\"\n",
    "    fig, (ax0, ax1) = p.subplots(1,2,figsize=(12,4))\n",
    "    for ind,spec, err in zip(range(ngroups), eigenspectra, eigenerrs):\n",
    "        ax0.errorbar(waves, spec, err, marker='o',\n",
    "                  color=p.cm.viridis(float(ind)/float(ngroups-1)))\n",
    "    ax0.set_xlabel('Wavelength (micron)')\n",
    "    ax0.set_ylabel('Fp/Fs')\n",
    "    ax0.set_title('Eigenspectra from light-curve fit, n={}'.format(degree))\n",
    "\n",
    "    imData = ax1.imshow(kgroups)\n",
    "    cbar = fig.colorbar(imData, ticks=np.arange(ngroups),ax=ax1)\n",
    "    cbar.set_label(r'Group')\n",
    "    ax1.set_xlabel('Latitude')\n",
    "    ax1.set_ylabel('Longitude')\n",
    "    ax1.set_title('Retrieved group map')"
   ]
  },
  {
   "cell_type": "code",
   "execution_count": null,
   "metadata": {},
   "outputs": [],
   "source": [
    "show_eigenspec_and_map()"
   ]
  }
 ],
 "metadata": {
  "kernelspec": {
   "display_name": "Python 3",
   "language": "python",
   "name": "python3"
  },
  "language_info": {
   "codemirror_mode": {
    "name": "ipython",
    "version": 3
   },
   "file_extension": ".py",
   "mimetype": "text/x-python",
   "name": "python",
   "nbconvert_exporter": "python",
   "pygments_lexer": "ipython3",
   "version": "3.6.7"
  }
 },
 "nbformat": 4,
 "nbformat_minor": 1
}
