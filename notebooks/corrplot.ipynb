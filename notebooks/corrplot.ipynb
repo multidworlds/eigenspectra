{
 "cells": [
  {
   "cell_type": "markdown",
   "metadata": {},
   "source": [
    "# Make cross-correlation plots"
   ]
  },
  {
   "cell_type": "code",
   "execution_count": null,
   "metadata": {},
   "outputs": [],
   "source": [
    "#Import functions\n",
    "import numpy as np\n",
    "import matplotlib.pyplot as plt\n",
    "from matplotlib import rc\n",
    "import corrplot"
   ]
  },
  {
   "cell_type": "code",
   "execution_count": null,
   "metadata": {},
   "outputs": [],
   "source": [
    "#Define files which cross-correlation plots will be made for \n",
    "#(standard setup is one plot for degree=3 and one for degree=4 but you can always comment out stuff to make only a\n",
    "#single plot or to compare different things)\n",
    "#When you define two files, they will be put on the same color scale in the plots\n",
    "#file='data/sph_harmonic_coefficients_full_samples/mystery1_eigen2/spherearray_deg_3.npz'\n",
    "file='data/sph_harmonic_coefficients_full_samples/good/mystery1/spherearray_deg_3.npz'\n",
    "corrcoeffs,pearsonr=corrplot.corrplot(file,9) #number here is index for which wavelength you want to look at\n",
    "#file2='data/sph_harmonic_coefficients_full_samples/mystery1_eigen4/spherearray_deg_4.npz'\n",
    "#corrcoeffs2,pearsonr2=corrplot.corrplot(file2,8)\n",
    "#print(pearsonr)\n",
    "print(corrcoeffs)\n",
    "#plt.imshow(pearsonr)\n",
    "#plt.colorbar()\n",
    "pearsonrround=np.zeros(np.shape(pearsonr))\n",
    "for i in np.arange(np.shape(pearsonr)[0]):\n",
    "    for j in np.arange(np.shape(pearsonr)[1]):\n",
    "        pearsonrround[i,j]=round(pearsonr[i,j],3)\n",
    "print(pearsonrround)\n",
    "corrcoeffs[corrcoeffs==-1.]=0.\n",
    "print(pearsonr[abs(corrcoeffs)>0.2],corrcoeffs[abs(corrcoeffs)>0.2])\n",
    "#print(np.max(abs(corrcoeffs)))"
   ]
  },
  {
   "cell_type": "code",
   "execution_count": null,
   "metadata": {},
   "outputs": [],
   "source": [
    "#Making the plot\n",
    "vmax=np.max(corrcoeffs)#(np.max(corrcoeffs),np.max(corrcoeffs2))) \n",
    "vmin=np.min(abs(corrcoeffs))-0.000001#(np.min(abs(corrcoeffs)),np.min(abs(corrcoeffs2))))-0.0001\n",
    "\n",
    "corrcoeffs[corrcoeffs==-1.]=0.\n",
    "corrcoeffs=abs(corrcoeffs)\n",
    "corrcoeffs[corrcoeffs==0.]=-1.\n",
    "#corrcoeffs2[corrcoeffs2==-1.]=0.\n",
    "#print(corrcoeffs)\n",
    "#print(vmin)\n",
    "\n",
    "palette=plt.cm.inferno\n",
    "palette.set_under(color='w')\n",
    "\n",
    "rc('axes',linewidth=2)\n",
    "plt.figure(figsize=(7,6))\n",
    "plt.title('Degree=3',fontsize=15)\n",
    "plt.imshow(corrcoeffs,cmap=palette,vmin=vmin,vmax=vmax,origin='lower')\n",
    "c=plt.colorbar()\n",
    "c.ax.tick_params(labelsize=15,width=2,length=6)\n",
    "c.set_label('Correlation Coefficient',fontsize=15)\n",
    "plt.xlim((-0.5,np.shape(corrcoeffs)[0]-1.5))\n",
    "plt.ylim((0.5,np.shape(corrcoeffs)[0]-0.5))\n",
    "plt.xlabel('Coefficient #1',fontsize=20)\n",
    "plt.ylabel('Coefficient #2',fontsize=20)\n",
    "plt.xticks([0,1,2,3,4,5],['0','1','2','3','4','5'])    #unfortunately I couldn't find a shortcut to make the ticks the same length as the cross-correlation plots, so you might have to edit this to get the axes looking nice\n",
    "plt.yticks([1,2,3,4,5,6],['1','2','3','4','5','6'])\n",
    "plt.tick_params(labelsize=20,axis=\"both\",top=True,right=True,width=2,length=8,direction='in')\n",
    "plt.savefig('offset_hotspot_eigen5_corr.pdf', bbox_inches='tight')\n",
    "\n",
    "# plt.figure(figsize=(7,6))\n",
    "# plt.title('Degree=4',fontsize=15)\n",
    "# plt.imshow(abs(corrcoeffs2),cmap=palette,vmin=vmin,vmax=vmax,origin='lower')\n",
    "# c=plt.colorbar()\n",
    "# c.ax.tick_params(labelsize=15,width=2,length=6)\n",
    "# c.set_label('Correlation Coefficient',fontsize=15)\n",
    "# plt.xlim((-0.5,np.shape(corrcoeffs2)[0]-1.5))\n",
    "# plt.ylim((0.5,np.shape(corrcoeffs2)[0]-0.5))\n",
    "# plt.xlabel('Coefficient #1',fontsize=20)\n",
    "# plt.ylabel('Coefficient #2',fontsize=20)\n",
    "# plt.xticks([0,1,2],['0','1','2'])   #unfortunately I couldn't find a shortcut to make the ticks the same length as the cross-correlation plots, so you might have to edit this to get the axes looking nice\n",
    "# plt.yticks([0,1,2,3],['0','1','2','3'])\n",
    "# plt.tick_params(labelsize=20,axis=\"both\",top=True,right=True,width=2,length=8,direction='in')\n",
    "# plt.show()"
   ]
  },
  {
   "cell_type": "code",
   "execution_count": null,
   "metadata": {},
   "outputs": [],
   "source": [
    "#plotting p values too\n",
    "\n",
    "#pearsonr[pearsonr>0.5]=1.0-pearsonr[pearsonr>0.5]\n",
    "#pearsonr2[pearsonr2>0.5]=1.0-pearsonr2[pearsonr2>0.5]\n",
    "\n",
    "vmax=0.01#np.max((np.max(pearsonr),np.max(pearsonr2))) \n",
    "vmin=-1e-10#np.min((np.min(abs(pearsonr)),np.min(abs(pearsonr2))))-0.0001\n",
    "\n",
    "rc('axes',linewidth=2)\n",
    "plt.figure(figsize=(7,6))\n",
    "plt.title('Degree=3',fontsize=15)\n",
    "plt.imshow(pearsonrround,cmap=palette,vmin=vmin,vmax=vmax,origin='lower')\n",
    "c=plt.colorbar()\n",
    "c.ax.tick_params(labelsize=15,width=2,length=6)\n",
    "c.set_label('P-value',fontsize=15)\n",
    "plt.xlim((-0.5,np.shape(corrcoeffs)[0]-1.5))\n",
    "plt.ylim((0.5,np.shape(corrcoeffs)[0]-0.5))\n",
    "plt.xlabel('Coefficient #1',fontsize=20)\n",
    "plt.ylabel('Coefficient #2',fontsize=20)\n",
    "plt.xticks([0,1,2],['0','1','2'])    #unfortunately I couldn't find a shortcut to make the ticks the same length as the cross-correlation plots, so you might have to edit this to get the axes looking nice\n",
    "plt.yticks([0,1,2,3],['0','1','2','3'])\n",
    "plt.tick_params(labelsize=20,axis=\"both\",top=True,right=True,width=2,length=8,direction='in')\n",
    "plt.show()\n",
    "\n",
    "# plt.figure(figsize=(7,6))\n",
    "# plt.title('Degree=4',fontsize=15)\n",
    "# plt.imshow(pearsonr2,cmap=palette,vmin=vmin,vmax=vmax,origin='lower')\n",
    "# c=plt.colorbar()\n",
    "# c.ax.tick_params(labelsize=15,width=2,length=6)\n",
    "# c.set_label('P-value',fontsize=15)\n",
    "# plt.xlim((-0.5,np.shape(corrcoeffs2)[0]-1.5))\n",
    "# plt.ylim((0.5,np.shape(corrcoeffs2)[0]-0.5))\n",
    "# plt.xlabel('Coefficient #1',fontsize=20)\n",
    "# plt.ylabel('Coefficient #2',fontsize=20)\n",
    "# plt.xticks([0,1,2],['0','1','2'])   #unfortunately I couldn't find a shortcut to make the ticks the same length as the cross-correlation plots, so you might have to edit this to get the axes looking nice\n",
    "# plt.yticks([0,1,2,3],['0','1','2','3'])\n",
    "# plt.tick_params(labelsize=20,axis=\"both\",top=True,right=True,width=2,length=8,direction='in')\n",
    "# plt.show()"
   ]
  },
  {
   "cell_type": "code",
   "execution_count": null,
   "metadata": {},
   "outputs": [],
   "source": []
  },
  {
   "cell_type": "code",
   "execution_count": null,
   "metadata": {},
   "outputs": [],
   "source": []
  }
 ],
 "metadata": {
  "kernelspec": {
   "display_name": "Python 3",
   "language": "python",
   "name": "python3"
  },
  "language_info": {
   "codemirror_mode": {
    "name": "ipython",
    "version": 3
   },
   "file_extension": ".py",
   "mimetype": "text/x-python",
   "name": "python",
   "nbconvert_exporter": "python",
   "pygments_lexer": "ipython3",
   "version": "3.7.3"
  }
 },
 "nbformat": 4,
 "nbformat_minor": 2
}
